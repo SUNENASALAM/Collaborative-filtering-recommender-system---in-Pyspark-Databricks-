{
 "cells": [
  {
   "cell_type": "code",
   "execution_count": 0,
   "metadata": {
    "application/vnd.databricks.v1+cell": {
     "cellMetadata": {
      "byteLimit": 2048000,
      "rowLimit": 10000
     },
     "inputWidgets": {},
     "nuid": "c19d6fb5-88a9-49bf-a95c-6aab3e62b77d",
     "showTitle": false,
     "title": ""
    }
   },
   "outputs": [],
   "source": [
    "#loading two CSV files into Apache Spark dataframes.\n",
    "steam_200k_dataframe = spark.read.csv(\"/FileStore/tables/steam_200k-3.csv\", header = False, inferSchema = True)\\\n",
    "    .toDF(\"Unique_Identifier\", \"Game_Title\", \"Behaviour\", \"Result\") #contain user behaviors on Steam, like whether users bought or played specific games, with a unique identifier for each entry.\n",
    "games_dataframe = spark.read.csv(\"/FileStore/tables/games.csv\", header = False, inferSchema = True)\\\n",
    "    .toDF(\"game_ID\", \"Game_Title\") #a reference table mapping game titles to a specific game ID.\n"
   ]
  },
  {
   "cell_type": "code",
   "execution_count": 0,
   "metadata": {
    "application/vnd.databricks.v1+cell": {
     "cellMetadata": {
      "byteLimit": 2048000,
      "rowLimit": 10000
     },
     "inputWidgets": {},
     "nuid": "044e48e0-3ccf-4963-a117-c05796d79ca3",
     "showTitle": false,
     "title": ""
    }
   },
   "outputs": [],
   "source": [
    "# So as to join the two DataFrames (`steam_200k_dataframe` and `games_dataframe`) on the \"Game_Title\" column using an inner join, and select and create a new DataFrame containing only the specified columns that we need in order to carry on the further tasks: \"Unique_Identifier\", \"Game_ID\", \"Behaviour\", and \"Result\".\n",
    "\n",
    "Combined_steam_gamedataframe = steam_200k_dataframe.join(games_dataframe, on = \"Game_Title\", how = \"inner\").select(\"Unique_Identifier\", \"Game_ID\", \"Behaviour\", \"Result\")"
   ]
  },
  {
   "cell_type": "code",
   "execution_count": 0,
   "metadata": {
    "application/vnd.databricks.v1+cell": {
     "cellMetadata": {
      "byteLimit": 2048000,
      "rowLimit": 10000
     },
     "inputWidgets": {},
     "nuid": "2fd9ba6a-50e3-44b2-b9a4-af8bf01b940a",
     "showTitle": false,
     "title": ""
    }
   },
   "outputs": [],
   "source": [
    "#importing the col function from PySpark SQL \n",
    "from pyspark.sql.functions import col\n",
    "\n",
    "# select specific columns from the DataFrame Combined_steam_gamedataframe, casting the \"Unique_Identifier\" and \"Game_ID\" columns to integer type, and the \"Result\" column to float type.\n",
    "type_casted_steam_game_dataframe = Combined_steam_gamedataframe.select(col(\"Unique_Identifier\").cast(\"int\"), col(\"Game_ID\").cast(\"int\"), col(\"Result\").cast(\"float\"))"
   ]
  },
  {
   "cell_type": "code",
   "execution_count": 0,
   "metadata": {
    "application/vnd.databricks.v1+cell": {
     "cellMetadata": {
      "byteLimit": 2048000,
      "rowLimit": 10000
     },
     "inputWidgets": {},
     "nuid": "b274f1d9-6b04-4e0f-8a2d-6190f8e99b11",
     "showTitle": false,
     "title": ""
    }
   },
   "outputs": [],
   "source": [
    "(training, test) = type_casted_steam_game_dataframe.randomSplit([0.75,0.25])\n",
    "# splits  DataFrame type_casted_steam_game_dataframe of Steam game data into two separate DataFrames for training and testing, with 75% of the data assigned to the training set and 25% to the test set, ensuring that each set retains a similar distribution of data."
   ]
  },
  {
   "cell_type": "code",
   "execution_count": 0,
   "metadata": {
    "application/vnd.databricks.v1+cell": {
     "cellMetadata": {
      "byteLimit": 2048000,
      "rowLimit": 10000
     },
     "inputWidgets": {},
     "nuid": "960612dc-0980-4d9d-a6eb-3b76b51f1d3e",
     "showTitle": false,
     "title": ""
    }
   },
   "outputs": [
    {
     "output_type": "stream",
     "name": "stdout",
     "output_type": "stream",
     "text": [
      "root\n |-- Unique_Identifier: integer (nullable = true)\n |-- Game_ID: integer (nullable = true)\n |-- Result: float (nullable = true)\n\n+-----------------+-------+------+\n|Unique_Identifier|Game_ID|Result|\n+-----------------+-------+------+\n|        151603712|      1|   1.0|\n|        151603712|      1| 273.0|\n|        151603712|      2|   1.0|\n|        151603712|      2|  87.0|\n|        151603712|      3|   1.0|\n+-----------------+-------+------+\nonly showing top 5 rows\n\nTop 5 games by frequency of user behavior:\n+-------+---------+\n|Game_ID|frequency|\n+-------+---------+\n|     22|     9682|\n|     10|     4646|\n|     54|     2789|\n|    529|     2632|\n|      5|     1752|\n+-------+---------+\n\n"
     ]
    }
   ],
   "source": [
    "from pyspark.sql import SparkSession\n",
    "from pyspark.sql.functions import col, count, countDistinct, desc, avg, round\n",
    "import matplotlib.pyplot as plt\n",
    "import seaborn as sns\n",
    "\n",
    "# Initialize Spark session \n",
    "spark = SparkSession.builder.appName(\"SteamDataAnalysis\").getOrCreate()\n",
    "\n",
    "# Display schema and first few rows to understand the data structure of \"type_casted_steam_game_dataframe\"\n",
    "type_casted_steam_game_dataframe.printSchema()\n",
    "type_casted_steam_game_dataframe.show(5)\n",
    "\n",
    "# EDA: Find the top 5 games by frequency of user behavior\n",
    "top_5_games = type_casted_steam_game_dataframe.groupBy(\"Game_ID\") \\\n",
    "    .agg(count(\"*\").alias(\"frequency\")) \\\n",
    "    .orderBy(desc(\"frequency\")) \\\n",
    "    .limit(5)\n",
    "\n",
    "print(\"Top 5 games by frequency of user behavior:\")\n",
    "top_5_games.show()\n"
   ]
  },
  {
   "cell_type": "code",
   "execution_count": 0,
   "metadata": {
    "application/vnd.databricks.v1+cell": {
     "cellMetadata": {
      "byteLimit": 2048000,
      "rowLimit": 10000
     },
     "inputWidgets": {},
     "nuid": "edac0e1f-0f57-4cde-aa81-38c9c9d7fb7c",
     "showTitle": false,
     "title": ""
    }
   },
   "outputs": [
    {
     "output_type": "stream",
     "name": "stdout",
     "output_type": "stream",
     "text": [
      "Distribution of behavior types:\n+------+---------+\n|Result|frequency|\n+------+---------+\n|   1.0|   130569|\n|   0.2|     3016|\n|   0.3|     2517|\n|   0.4|     2129|\n|   0.5|     1813|\n|   0.1|     1787|\n|   0.6|     1643|\n|   0.7|     1380|\n|   0.8|     1278|\n|   0.9|     1229|\n|   1.1|      948|\n|   1.2|      943|\n|   1.3|      913|\n|   1.4|      829|\n|   1.5|      797|\n|   1.7|      696|\n|   1.6|      686|\n|   1.9|      647|\n|   1.8|      645|\n|   2.0|      601|\n+------+---------+\nonly showing top 20 rows\n\n"
     ]
    }
   ],
   "source": [
    "\n",
    "# EDA: Determine the distribution of behavior types\n",
    "behavior_distribution = type_casted_steam_game_dataframe.groupBy(\"Result\") \\\n",
    "    .agg(count(\"*\").alias(\"frequency\")) \\\n",
    "    .orderBy(desc(\"frequency\"))\n",
    "\n",
    "print(\"Distribution of behavior types:\")\n",
    "behavior_distribution.show()\n"
   ]
  },
  {
   "cell_type": "code",
   "execution_count": 0,
   "metadata": {
    "application/vnd.databricks.v1+cell": {
     "cellMetadata": {
      "byteLimit": 2048000,
      "rowLimit": 10000
     },
     "inputWidgets": {},
     "nuid": "c2e6eecc-bd4c-4b36-bfd7-c89698541e57",
     "showTitle": false,
     "title": ""
    }
   },
   "outputs": [
    {
     "output_type": "display_data",
     "data": {
      "image/png": "[encoded data removed]"
     },
     "metadata": {
      "application/vnd.databricks.v1+output": {
       "addedWidgets": {},
       "arguments": {},
       "data": "data:image/png;base64,iVBORw0KGgoAAAANSUhEUgAAAmUAAAGDCAYAAABqemclAAAAOXRFWHRTb2Z0d2FyZQBNYXRwbG90bGliIHZlcnNpb24zLjUuMSwgaHR0cHM6Ly9tYXRwbG90bGliLm9yZy/YYfK9AAAACXBIWXMAAAsTAAALEwEAmpwYAAA4nUlEQVR4nO3deZRcZ33n//e3qnrf1Wq19gVLljewMQJMCJs3MCHYmR8BchJwCBMPAyELZBInMEwyQyYkZMzgSYaMwSSGEMA4ITZrbIzNbhvJuy3bkm2t1traWy319vz+qNtyS1ZL3VJXV3X3+3VOnbr3ubduffv2Pa2PnucukVJCkiRJ5ZUrdwGSJEkylEmSJFUEQ5kkSVIFMJRJkiRVAEOZJElSBTCUSZIkVQBDmaQxiYi/j4j/Ok7bWhgRByIin83fHRH/cTy2nW3vOxFx9Xhtbwzf+/GI2BkRWyf6u48nIhZHRIqIQrlrkTQyQ5mkIyJiXUT0RMT+iNgTET+NiPdFxJG/FSml96WU/scot3XpidZJKW1IKTWmlAbGofY/i4h/Omb7V6SUbjrdbY+xjoXAh4FzUkqzj7P89RExmIXR/RHxZES8Z4JrHNfwK2l8GMokHeuXU0pNwCLgE8AfAzeO95dM4V6bhUBXSmn7CdZ5LqXUCDQDfwB8NiKWT0h1kiqWoUzScaWU9qaUbgPeAVwdEecBRMQ/RsTHs+mZEfHNrFdtV0T8KCJyEfFFiuHkG1mP0B8NG0J7b0RsAL4/wrDaGRFxX0Tsi4hbI2JG9l2vj4hNw2sc6o2LiDcBfwq8I/u+h7LlR3qEsro+GhHrI2J7RHwhIlqyZUN1XB0RG7Khx4+MtG8ioiX7/I5sex/Ntn8pcAcwN6vjH0+yj1NK6dvALuAlw+q8NiKejoiuiLh52D6ojYh/ytr3RMTPI6Jz+L4YVuMLeg6z9r8AXgP8bVbj30bRp7L9si8iHhn6fUuaOIYySSeUUroP2ETxH/JjfThb1gF0UgxGKaX0LmADxV63xpTSXw/7zOuAs4E3jvCV7wZ+C5gD9APXj6LG7wL/E/hq9n3nH2e138xebwBeBDQCf3vMOr8ILAcuAT4WEWeP8JX/B2jJtvO6rOb3pJS+B1xB1hOWUvrNE9WdBbC3AjOBtVnzB4Grsu3OBXYDf5ctuzr73gVAO/A+oOdE33GslNJHgB8Bv5PV+DvA5cBrgTOz7b8d6BrLdiWdPkOZpNF4DphxnPY+iuFpUUqpL6X0o3TyB+r+WUqpO6U0Upj4Ykrp0ZRSN/BfgbcPXQhwmn4duC6l9ExK6QDwJ8A7j+ml+/OUUk9K6SHgIeAF4S6r5Z3An6SU9qeU1gH/C3jXGGqZGxF7KAaqrwMfSik9kC17H/CRlNKmlNJh4M+At2V19lEMY0tTSgMppVUppX1j+N6R9AFNwFlApJRWp5S2jMN2JY2BoUzSaMyjOMR2rE9S7OG5PSKeiYhrR7GtjWNYvh6ootiTdLrmZtsbvu0CxR6+IcOvljxIsTftWDOzmo7d1rwx1PJcSqmV4jll1wMXD1u2CPh6Njy5B1gNDGR1fhH4d+ArEfFcRPx1RFSN4XuPK6X0fYq9hn8HbI+IGyKi+XS3K2lsDGWSTigiXk4xcPz42GVZT9GHU0ovAt4KfCgiLhlaPMImT9aTtmDY9EKKvTg7gW6gflhdeYrDpqPd7nMUA8/wbfcD207yuWPtzGo6dlubx7gdsp6wPwZeHBFXZc0bgStSSq3DXrUppc1Zb+Sfp5TOAX4BeAvFoVM4Zv8AL7jyc/hXH6eW61NKLwPOoTiM+V/G+vNIOj2GMknHFRHNEfEW4CvAP6WUHjnOOm+JiKUREcBeij06g9nibRTPuRqr34iIcyKiHvjvwC3ZLTOeAmoj4pey3qGPAjXDPrcNWBzDbt9xjC8DfxARSyKikefPQesfS3FZLTcDfxERTRGxCPgQ8IKT6ke5vV6Kw58fy5r+Ptv2IoCI6IiIK7PpN0TEi7NAuo9iOBza3w9SHI6tiogVwNtO8LVH/W4i4uUR8cpsv3YDh4ZtV9IEMZRJOtY3ImI/xR6bjwDXASPdR2sZ8D3gAPAz4P+mlO7Klv0l8NFsGO4Px/D9XwT+keJQYi3wu1C8GhR4P/A5ir1S3RQvMhjytey9KyLuP852P59t+4fAsxSDxwfHUNdwH8y+/xmKPYj/nG3/VH0eWBgRvwx8GriN4pDwfuAe4JXZerOBWygGstXADyj+TFA8/+4MihcG/HlW00g+TfE8td0RcT3FYdTPZp9dT/Ek/0+exs8j6RTEyc/JlSRJUqnZUyZJklQBDGWSJEkVwFAmSZJUAQxlkiRJFcBQJkmSVAEKJ1+lcs2cOTMtXry43GVIkiSd1KpVq3amlDpGWj6pQ9nixYtZuXJlucuQJEk6qYhYf6LlDl9KkiRVAEOZJElSBTCUSZIkVQBDmSRJUgUwlEmSJFUAQ5kkSVIFMJRJkiRVAEOZJElSBTCUSZIkVQBDmSRJUgUwlEmSJFUAQ5kkSVIFMJRJkiRVAEPZSSxYuIiIKPlrwcJF5f5RJUlSGRXKXUCl27RxA9fd/mTJv+dDly8v+XdIkqTKZU+ZJElSBTCUSZIkVQBDmSRJUgUwlEmSJFUAQ5kkSVIFMJRJkiRVAEOZJElSBTCUSZIkVQBDmSRJUgUwlEmSJFUAQ5kkSVIFMJRJkiRVAEOZJElSBTCUSZIkVQBDmSRJUgUwlEmSJFUAQ5kkSVIFKFkoi4jlEfHgsNe+iPj9iJgREXdExJrsvS1bPyLi+ohYGxEPR8SFpapNkiSp0pQslKWUnkwpXZBSugB4GXAQ+DpwLXBnSmkZcGc2D3AFsCx7XQN8plS1SZIkVZqJGr68BHg6pbQeuBK4KWu/Cbgqm74S+EIqugdojYg5E1SfJElSWU1UKHsn8OVsujOltCWb3gp0ZtPzgI3DPrMpa5MkSZrySh7KIqIaeCvwtWOXpZQSkMa4vWsiYmVErNyxY8c4VSlJklReE9FTdgVwf0ppWza/bWhYMnvfnrVvBhYM+9z8rO0oKaUbUkorUkorOjo6Sli2JEnSxJmIUPZrPD90CXAbcHU2fTVw67D2d2dXYV4E7B02zClJkjSlFUq58YhoAC4D/tOw5k8AN0fEe4H1wNuz9m8DbwbWUrxS8z2lrE2SJKmSlDSUpZS6gfZj2rooXo157LoJ+EAp65EkSapU3tFfkiSpAhjKJEmSKoChTJIkqQIYyiRJkiqAoUySJKkCGMokSZIqgKFMkiSpAhjKJEmSKoChTJIkqQIYyiRJkiqAoUySJKkCGMokSZIqgKFMkiSpAhjKJEmSKoChTJIkqQIYyiRJkiqAoUySJKkCGMokSZIqgKFMkiSpAhjKJEmSKoChTJIkqQIYyiRJkiqAoUySJKkCGMokSZIqgKFMkiSpAhjKJEmSKoChTJIkqQIYyiRJkiqAoUySJKkCGMokSZIqgKFMkiSpAhjKJEmSKoChTJIkqQKUNJRFRGtE3BIRT0TE6oh4VUTMiIg7ImJN9t6WrRsRcX1ErI2IhyPiwlLWJkmSVElK3VP2aeC7KaWzgPOB1cC1wJ0ppWXAndk8wBXAsux1DfCZEtcmSZJUMUoWyiKiBXgtcCNASqk3pbQHuBK4KVvtJuCqbPpK4Aup6B6gNSLmlKo+SZKkSlLKnrIlwA7gHyLigYj4XEQ0AJ0ppS3ZOluBzmx6HrBx2Oc3ZW1HiYhrImJlRKzcsWNHCcuXJEmaOKUMZQXgQuAzKaWXAt08P1QJQEopAWksG00p3ZBSWpFSWtHR0TFuxUqSJJVTKUPZJmBTSunebP4WiiFt29CwZPa+PVu+GVgw7PPzszZJkqQpr2ShLKW0FdgYEcuzpkuAx4HbgKuztquBW7Pp24B3Z1dhXgTsHTbMKUmSNKUVSrz9DwJfiohq4BngPRSD4M0R8V5gPfD2bN1vA28G1gIHs3UlSZKmhZKGspTSg8CK4yy65DjrJuADpaynlHbsP8zWfYfYc7CXhpoCL13QSkSUuyxJkjRJlLqnbFp4bk8PX1u1CYBcwGCCQ30D/MIZM8tcmSRJmiwMZacppcRP1u6kvjrP21csoKm2wF1PbOfn63bTVFvFi+e1lLtESZI0Cfjsy9P07M5untt7iIuWtNNSV0Uugjcsn8Xi9nruenI7G3cdLHeJkiRpEjCUnYbBlPjJ01201ldxztzmI+25XHDFeXNorq3iR2t3UjxdTpIkaWSGstOwess+dnX38gtntJPPHX1Sf3UhxyuWzGDH/sM8u7O7TBVKkqTJwlB2Gh5/bh/tjdUs7Wg87vKzOptoqavi3md32VsmSZJOyFB2ivoGBtm67xCL2xtGvPVFLhe8fHEb2+0tkyRJJ2EoO0XP7elhMMGCtroTrnfW7Gaaawv2lkmSpBMylJ2ijbt7yAXMbT1xKMvnghWLZ7A9u7msJEnS8RjKTtGm3QeZ3VxLVf7ku3B5ZxNV+eDRzfsmoDJJkjQZGcpOweH+AbbvO8z8tvpRrV9dyHFmZxNPbdvP4f6BElcnSZImI0PZKdi8u4cELJhx4qHL4c6b20L/YOKpbQdKV5gkSZq0DGWnYOPuHvK5YHZz7ag/09lcQ3tjNY9u3lvCyiRJ0mRlKDsFm3YfZE5LLYVRnE82JCI4b24L2/cfZsf+wyWsTpIkTUaGsjHq6R1g54FeFozyfLLhzprdRD4XPPacvWWSJOlohrIx2ra/eFuLua2jH7ocUluVZ8nMBp7adoDBQe9ZJkmSnmcoG6Nd3b0AtDfUnNLnl3c20dM3wMbdB8ezLEmSNMkZysZoV3cvdVV56qrzp/T5xe31VBdyPLlt/zhXJkmSJjND2Rjt6u5lRkP1KX++kM+xtKORp7d30z8wOI6VSZKkycxQNgYpJbpOM5QBLJ/dRO/AIM92+ZBySZJUZCgbg+7eAXr7B2k/zVA2v62O+uo8T251CFOSJBUZysZg6CT/0+0py0VwZmcT67oO+tglSZIEGMrGZLxCGcCZnY0MDCae3ekQpiRJMpSNSVf3YWoLOepP8crL4WY319JYU2Dtdp+FKUmSDGVjMnTlZUSc9rYigqUdjazrOkhvv1dhSpI03RnKRimlxK4Dp3/l5XBLZxWHMNd5FaYkSdOeoWyUevoGONQ/OK6hbE5rLfXVeYcwJUmSoWy0xvMk/yG5CM7oaGRdVzdROLXHNkmSpKnBUDZKXaf5zMuRLJ3VSN9AonbJheO6XUmSNLkYykZpV3cv1fkcDTWnf+XlcPNb66itylG//BfGdbuSJGlyMZSN0nheeTlcLlccwqxf+kpvJCtJ0jRmKBulfT19tNRXlWTbS2c1kqup58drdpZk+5IkqfKVNJRFxLqIeCQiHoyIlVnbjIi4IyLWZO9tWXtExPURsTYiHo6IijnJanAwceBwP821hZJsf0FbPYOHDvCdR7eWZPuSJKnyTURP2RtSSheklFZk89cCd6aUlgF3ZvMAVwDLstc1wGcmoLZROdDbz2CC5trS9JTlc8HBNfdyx+Pb6BvwRrKSJE1H5Ri+vBK4KZu+CbhqWPsXUtE9QGtEzClDfS+wv6cfgKYS9ZQBHHzqJ+zt6eNnT3eV7DskSVLlKnUoS8DtEbEqIq7J2jpTSluy6a1AZzY9D9g47LObsrajRMQ1EbEyIlbu2LGjVHUfZd+hPgCa60rTUwbQ8+wDNFTn+c6jW06+siRJmnJKHcp+MaV0IcWhyQ9ExGuHL0wpJYrBbdRSSjeklFaklFZ0dHSMY6kjGwplTTWl6yljoI+Lz+7k9se20e8QpiRJ005JQ1lKaXP2vh34OvAKYNvQsGT2vj1bfTOwYNjH52dtZbf/UD/11XkK+dJm2DefN5uu7l7uW7erpN8jSZIqT8lSRkQ0RETT0DRwOfAocBtwdbba1cCt2fRtwLuzqzAvAvYOG+Ysq309fSU7yX+4157ZQXUhxx2Pbyv5d0mSpMpSyq6fTuDHEfEQcB/wrZTSd4FPAJdFxBrg0mwe4NvAM8Ba4LPA+0tY25jsO1S622EM11BT4DVLZ3L7Y9sojuxKkqTpomRJI6X0DHD+cdq7gEuO056AD5SqnlMXHDjUz9JZjRPybZef28mdT2xn9Zb9nDO3eUK+U5IklZ939D+JfGMbAylNSE8ZwMVndRIBtz/ujWQlSZpODGUnUWiZBZTuxrHH6miq4WUL2zyvTJKkacZQdhL55mIoK+WNY491+bmdPPbcPjbtPjhh3ylJksrLUHYShZbivW1LeePYY112zmwAe8skSZpGDGUnUWieRV1VnqoS36NsuCUzG1g2q9FQJknSNGIoO4lCy6wJHboccvm5ndz77C72HOyd8O+WJEkTz1B2EoWWWRN2kv9wl50zm4HBxF1Pbj/5ypIkadIzlJ1ASol8cwfNdRPfU/aSeS10Ntdw+2MOYUqSNB0Yyk6gq7uXXFUtTWXoKcvlgkvP7uQHT+3gUN/AhH+/JEmaWIayE9i0uwdgwm4ce6zLz53Nwd4Bfvr0zrJ8vyRJmjiGshPYnIWycvSUAbzqRe001RQcwpQkaRowlJ3AJWfPYvNn38eMhuqyfH91IcfrlnfwvdXbGBj0AeWSJE1lhrITqK3K079rE/lclK2Gy8+dzc4DvTywYXfZapAkSaU3qlAWES8udSE6vtcv76CQC7632ltjSJI0lY22p+z/RsR9EfH+iGgpaUU6SnNtFa9YMoM7V3temSRJU9moQllK6TXArwMLgFUR8c8RcVlJK9MRl5zdyZrtB9jQ5QPKJUmaqkZ9TllKaQ3wUeCPgdcB10fEExHxH0pVnIouPXsWAHc+YW+ZJElT1WjPKXtJRHwKWA1cDPxySunsbPpTJaxPwKL2BpbOauROzyuTJGnKGm1P2f8B7gfOTyl9IKV0P0BK6TmKvWcqsUvOmsW9z3ax/1BfuUuRJEklMNpQ9kvAP6eUegAiIhcR9QAppS+Wqjg975KzO+kbSPzwKe/uL0nSVDTaUPY9oG7YfH3Wpgly4cJWWuurPK9MkqQparShrDaldGBoJpuuL01JOp5CPscbls/i7id3eHd/SZKmoNGGsu6IuHBoJiJeBvSUpiSN5JKzZ7Gr27v7S5I0FRVGud7vA1+LiOeAAGYD7yhVUTq+1575/N39VyyeUe5yJEnSOBrtzWN/DpwF/GfgfcDZKaVVpSxML+Td/SVJmrrG8kDylwMvAS4Efi0i3l2aknQi3t1fkqSpabQ3j/0i8DfAL1IMZy8HVpSwLo3Au/tLkjQ1jfacshXAOSklL/srs+F393/Pq5eUuxxJkjRORjt8+SjFk/tVKpEjIkb1WnXbP/KjJ7eQq6kf9WciggULF5X7p5QkSSMYbU/ZTODxiLgPODzUmFJ6a0mqmo7SINfd/uSoVt28u4db7t/E+278Ecs6m0b9FR+6fPmpVidJkkpstKHsz0pZhMZmTksttYUcz3Z1jymUSZKkyjWqUJZS+kFELAKWpZS+lz33Ml/a0jSSXC5Y2F7P+q6DpJSIiHKXJEmSTtNor778beAW4P9lTfOAfxvlZ/MR8UBEfDObXxIR90bE2oj4akRUZ+012fzabPnisf4w08ni9gYO9g6wff/hk68sSZIq3mhP9P8A8GpgH0BKaQ0wa5Sf/T1g9bD5vwI+lVJaCuwG3pu1vxfYnbV/KltPI1jUXnz06Lqu7jJXIkmSxsNoQ9nhlFLv0ExEFICT3h4jIuYDvwR8LpsP4GKKvW4ANwFXZdNXZvNkyy8Jx+VGVF9doLO5hvXeRFaSpClhtKHsBxHxp0BdRFwGfA34xig+97+BPwIGs/l2YE9KqT+b30RxKJTsfSNAtnxvtv5RIuKaiFgZESt37NgxyvKnpsXtDWzZe4ie3oFylyJJkk7TaEPZtcAO4BHgPwHfBj56og9ExFuA7eP9jMyU0g0ppRUppRUdHR3juelJZ/HMBgDW73IIU5KkyW60V18OAp/NXqP1auCtEfFmoBZoBj4NtEZEIesNmw9sztbfDCwANmXDoy1A1xi+b9rpbKqhrirPuq6DnDW7udzlSJKk0zDaqy+fjYhnjn2d6DMppT9JKc1PKS0G3gl8P6X068BdwNuy1a4Gbs2mb8vmyZZ/38c6nVhEsLi9nvVd3Qy6qyRJmtTG8uzLIbXArwIzTvE7/xj4SkR8HHgAuDFrvxH4YkSsBXZRDHI6icUzG1i9dT/b9h1iTktducuRJEmnaLTDl8cOI/7viFgFfGyUn78buDubfgZ4xXHWOUQx7GkMFs6oJ4B1Ow8ayiRJmsRGFcoi4sJhszmKPWej7WVTCdVW5ZndUsu6rm5edcYLLlaVJEmTxGiD1f8aNt0PrAPePu7V6JQsntnAz57uovtwPw01ZmVJkiaj0Q5fvqHUhejULWkvhrL1XQc5Z65XYUqSNBmNdvjyQydanlK6bnzK0amY2VhNQ3WedV3dhjJJkiapsVx9+XKKt60A+GXgPmBNKYrS2EQEi2c2sGb7AQYHE7mcT6eSJGmyGW0omw9cmFLaDxARfwZ8K6X0G6UqTGOzuL2Bx57bx5a9h5jX5lWYkiRNNqN9zFIn0DtsvjdrU4VYMKOOXMC6Lh+5JEnSZDTanrIvAPdFxNez+auAm0pSkU5JTSHP3NY61nV18+qlM8tdjiRJGqNR9ZSllP4CeA+wO3u9J6X0P0tZmMZucXsDOw/0sv9QX7lLkSRJYzTa4UuAemBfSunTFB8avqRENekULW6vB2B918EyVyJJksZqtA8k/28Un1n5J1lTFfBPpSpKp2ZGQzVNtQXPK5MkaRIabU/ZrwBvBboBUkrPAU2lKkqnJiJY3N7Ahl0H6R8cLHc5kiRpDEYbynpTSglIABHRULqSdDoWt9fTN5B4bs+hcpciSZLGYLSh7OaI+H9Aa0T8NvA94LOlK0unasGMevIRDmFKkjTJnPSWGBERwFeBs4B9wHLgYymlO0pcm05BVT7HvLY61u3s5rXLOspdjiRJGqWThrKUUoqIb6eUXgwYxCaBxe31/HDNTvb29NFSV1XuciRJ0iiMdvjy/oh4eUkr0bhZ3F485W+9Q5iSJE0aow1lrwTuiYinI+LhiHgkIh4uZWE6da31VTTXFljn/cokSZo0Tjh8GRELU0obgDdOUD0aB0O3xli9dR/9g4MUcmO5R7AkSSqHk/1r/W8AKaX1wHUppfXDXyWvTqds0UxvjSFJ0mRyslAWw6ZfVMpCNL4WtHlrDEmSJpOThbI0wrQqXFU+x9y2Wp+DKUnSJHGyUHZ+ROyLiP3AS7LpfRGxPyL2TUSBOnWL2xvY1d3LvkN95S5FkiSdxAlDWUopn1JqTik1pZQK2fTQfPNEFalTc+TWGDvtLZMkqdJ5Wd4U1lZfRVNtwfPKJEmaBAxlU1hEsKi9no27DzIw6CmBkiRVMkPZFLe4vSG7NUZPuUuRJEknYCib4ha01ZMLvApTkqQKZyib4qoLOea21nlemSRJFc5QNg0sbm+gq7uXfNPMcpciSZJGYCibBha11wNQ96KXlbkSSZI0EkPZNNDeUE1jTYHaJReWuxRJkjSCkoWyiKiNiPsi4qGIeCwi/jxrXxIR90bE2oj4akRUZ+012fzabPniUtU23UQEi9vrqVt8AX0Dg+UuR5IkHUcpe8oOAxenlM4HLgDeFBEXAX8FfCqltBTYDbw3W/+9wO6s/VPZehoni9obyNU0sGr97nKXIkmSjqNkoSwVHchmq7JXAi4GbsnabwKuyqavzObJll8SEVGq+qabBTPqSAP93P3kjnKXIkmSjqOk55RFRD4iHgS2A3cATwN7Ukr92SqbgHnZ9DxgI0C2fC/QfpxtXhMRKyNi5Y4dBozRqinkObx5NXc/ub3cpUiSpOMoaShLKQ2klC4A5gOvAM4ah23ekFJakVJa0dHRcbqbm1Z6nlnJE1v3s23foXKXIkmSjjEhV1+mlPYAdwGvAlojopAtmg9szqY3AwsAsuUtQNdE1Ddd9DyzCoAfOIQpSVLFKeXVlx0R0ZpN1wGXAasphrO3ZatdDdyaTd+WzZMt/35Kyadoj6O+HevobK7h7qccwpQkqdIUTr7KKZsD3BQReYrh7+aU0jcj4nHgKxHxceAB4MZs/RuBL0bEWmAX8M4S1jZtve7MDr7z6Fb6BwYp5L1NnSRJlaJkoSyl9DDw0uO0P0Px/LJj2w8Bv1qqelT0+uWzuHnlJu7fsIdXLJlR7nIkSVLGrpJp5tVLZ5LPBT9wCFOSpIpiKJtmWuqqeNnCNr7/hCf7S5JUSQxl09DFZ89i9ZZ9PLenp9ylSJKkjKFsGrr07FkA3PmEQ5iSJFUKQ9k0dEZHI4va67lz9bZylyJJkjKGsmkoIrj4rFn89OkuDvb2n/wDkiSp5Axl09SlZ3fS2z/Ij9fsLHcpkiQJQ9m09fLFM2iqKXDnas8rkySpEhjKpqnqQo7XntnBnU9sZ3DQp1lJklRuhrJp7JKzZ7HzwGEe2by33KVIkjTtGcqmsdcvn0Uu8CpMSZIqgKFsGpvRUM2FC9v4nueVSZJUdoayae6Sszt5fMs+tuz17v6SJJWToWyaO3J3f3vLJEkqK0PZNLd0ViMLZ3h3f0mSys1QNs0N3d3/J97dX5KksjKU6cjd/X+ytqvcpUiSNG0ZysQrlsygsabgEKYkSWVkKBPVhRyvO7OD763ezoB395ckqSwMZQLgjefNZueBw6xav7vcpUiSNC0ZygTAxWfNorqQ4zuPbil3KZIkTUuGMgHQWFPgtctm8u+PbiUlhzAlSZpohjId8abz5vDc3kM8tMkHlEuSNNEMZTrisrM7KeTCIUxJksrAUKYjWuqreNUZ7XzXIUxJkiacoUxHueK8OazvOsjqLfvLXYokSdOKoUxHeeO5neRzwbceea7cpUiSNK0YynSU9sYaXr10Jrc++JxDmJIkTSBDmV7grefPZdPuHu7fsKfcpUiSNG0YyvQCbzy3k+pCjm885BCmJEkTxVCmF2iqreLSs2fxzYefo39gsNzlSJI0LRjKdFxvPX8uOw/08tOnu8pdiiRJ00LJQllELIiIuyLi8Yh4LCJ+L2ufERF3RMSa7L0ta4+IuD4i1kbEwxFxYalq08m9fvksmmoK3OYQpiRJE6KUPWX9wIdTSucAFwEfiIhzgGuBO1NKy4A7s3mAK4Bl2esa4DMlrE0nUVuV503nzea7j26lp3eg3OVIkjTllSyUpZS2pJTuz6b3A6uBecCVwE3ZajcBV2XTVwJfSEX3AK0RMadU9enk3vay+Rw43O9jlyRJmgATck5ZRCwGXgrcC3SmlIb+ld8KdGbT84CNwz62KWtTmbxiyQwWt9fz1Z9vPPnKkiTptJQ8lEVEI/AvwO+nlPYNX5aKdycd0x1KI+KaiFgZESt37NgxjpVOA5EjIkb9yuVyPPCvn+HeZ3dR1TZ31J9bsHBRuX9SSZImnUIpNx4RVRQD2ZdSSv+aNW+LiDkppS3Z8OT2rH0zsGDYx+dnbUdJKd0A3ACwYsUKbzk/FmmQ625/ckwf2X+oj3/4yTqu+stb+IUzZo7qMx+6fPmpVCdJ0rRWyqsvA7gRWJ1Sum7YotuAq7Ppq4Fbh7W/O7sK8yJg77BhTpVJU20VC9vrWb1lP4M+dkmSpJIp5fDlq4F3ARdHxIPZ683AJ4DLImINcGk2D/Bt4BlgLfBZ4P0lrE1jcO7cZg4c7mdD18FylyJJ0pRVsuHLlNKPgRhh8SXHWT8BHyhVPTp1L5rZSF1Vnkc272XxzIZylyNJ0pTkHf11UvlccN68Zp7Z2c3enr5ylyNJ0pRkKNOovHheCxHw8KY95S5FkqQpyVCmUWmqreKMjkYee24ffT6kXJKkcWco06hdML+Vw/2DPLl1f7lLkSRpyjGUadTmttbS3ljNQ5v2kLw9hiRJ48pQplGLCC5Y0MrOA71s2OXtMSRJGk+GMo3JWbObaKjJs3L97nKXIknSlGIo05gUcjkuXNDGpt09bN17qNzlSJI0ZRjKNGbnzWuhppBj5fpd5S5FkqQpw1CmMasu5Dh/fitP7+hmV3dvucuRJGlKMJTplJy/oIVCLvj5OnvLJEkaD4YynZL66gLnz2/lia376TpwuNzlSJI06RnKdMpetqiN6nyOe56xt0ySpNNlKNMpq6vOc8HCVtbuOMD2fV6JKUnS6TCU6bRcuLCVmkKOnz7TVe5SJEma1AxlOi01hTwrFrWxvusgm3Z7l39Jkk6VoUyn7YIFrTTVFvjhUzsZ9JmYkiSdEkOZTlshn+PVZ8xkx4HDrN6yr9zlSJI0KRnKNC7O7GxkdnMtP326i6iqLXc5kiRNOoYyjYuI4LVnzuRg7wAtF72t3OVIkjTpGMo0bua01LF8dhPNr/j/eHZnd7nLkSRpUjGUaVy9ZulM0kAvH7v1UZIn/UuSNGqGMo2rhpoCe374RX60ZiffemRLucuRJGnSMJRp3O1/4NucN6+Z//6Nx9l/qK/c5UiSNCkYyjT+0iB/cdWL2XngMJ/4zhPlrkaSpEnBUKaSOH9BK7/16iV86d4N/OxpH8EkSdLJGMpUMh++fDmL2uu59l8fpqd3oNzlSJJU0QxlKpm66jyf+A8vYX3XQf7m9ifLXY4kSRXNUKaSetUZ7fzGRQv5/E+e5adP7yx3OZIkVSxDmUruT998NovbG/jDmx9ib49XY0qSdDyGMpVcfXWBT73jArbtP8x/u/XRcpcjSVJFMpRpQlywoJUPXryUf3vwOf7tgc3lLkeSpIpTslAWEZ+PiO0R8eiwthkRcUdErMne27L2iIjrI2JtRDwcEReWqi6Vz++8YSkvX9zGn379EdZuP1DuciRJqiil7Cn7R+BNx7RdC9yZUloG3JnNA1wBLMte1wCfKWFdKpNCPsf/+bULqa3K84Ev3e9tMiRJGqZkoSyl9ENg1zHNVwI3ZdM3AVcNa/9CKroHaI2IOaWqTeUzu6WWT73jAp7avp//6kPLJUk6YqLPKetMKQ09pXor0JlNzwM2DltvU9amKeh1Z3bwwYuXccuqTfzDT9aVuxxJkipC2U70T8UukjF3k0TENRGxMiJW7tixowSVaSL8/iXLeOO5nXz8W49z95Pby12OJEllN9GhbNvQsGT2PvSv8WZgwbD15mdtL5BSuiGltCKltKKjo6Okxap0crngurdfwPLZzXzwnx9gzbb95S5JkqSymuhQdhtwdTZ9NXDrsPZ3Z1dhXgTsHTbMqSmqoabA565eQW11nnfdeB8bdx0sd0mSJJVNKW+J8WXgZ8DyiNgUEe8FPgFcFhFrgEuzeYBvA88Aa4HPAu8vVV2aAJEjIkb1mt9Wz0Of/m02b9/JRdd+iXxj26g+t2DhonL/lJIkjatCqTacUvq1ERZdcpx1E/CBUtWiCZYGuW6MDyDfsreHf71/MxdcezO/csE8GmpOfGh+6PLlp1OhJEkVxzv6qyLMaanjl8+fy96DfdyyahP7DvmMTEnS9GIoU8VYOKOeX3npPA72DfC1lZvY1d1b7pIkSZowhjJVlLmtdbztwvkMpsRXf76RZ3b4OCZJ0vRgKFPF6Wiq4Z0vX0BrfRXfeHgL9zzTxaB3/pckTXGGMlWkptoqfvVl8zlrdhP3PruLf1m1ib09nmcmSZq6DGWqWIV8jsvP6eTyczrZeaCXL927noc27rHXTJI0JZXslhjSeIgIzp7TzLy2Or63eht3P7WDx7fso3rOmeUuTZKkcWVPmSaF5toqfuWCebzp3Nl0H+5nzruv4w+++iCb9/SUuzRJksaFoUyTRkSwfHYT73rVIvbe8zW+9cgW3vA3d/NX333C+5pJkiY9Q5kmnZpCnj0/uIm7/vD1vOXFc/jM3U/z+k/ezRd+to6+gcFylydJ0ikxlGnSmtdax3XvuIBv/M4vcmZnIx+79THe+KkfcvtjW0leDCBJmmQMZZr0Xjy/hS//9kXcePUKIuCaL67iHTfcw0Mb95S7NEmSRs1QpikhIrjk7E7+/fdfy8evOo9ndhzgyr/7Cb/75QfYuOtgucuTJOmkDGWaUgr5HL9x0SLu/i9v4IMXL+X2x7dyyXU/4C+/s9qbz0qSKpqhTFNSY02BD1++nLv+8PW89fy53PDDZ3jD39zNzT/fyOCg55tJkiqPN4/V5BQ5ImLUq1fNWkLPZe/jj7p7+d3rv8qu2z9D3/ZnTviZ+QsWsnHD+tOtVJKkUTGUaXJKg1x3+5Nj+0hKrN66nx9X5al7z/W8ZH4Lr3pROzVV+eOu/6HLl49HpZIkjYqhTNNGRHDOnGbOmNnAz57p4uFNe3lq2wFes2wmZ81uGlPPmyRJ481zyjTt1FTlef3yWbzz5Qtoqavi9se3ccuqTezYf7jcpUmSpjFDmaatWc21vH3FfC49exa7D/bxz/dt4PbHt3LgUH+5S5MkTUMOX2paiwjOndvC0o5G7lu3i4c27mXNtgO8ZH4LufqWcpcnSZpG7CmTKA5pvmZZB+961SKWzmrkgQ17mPefbuR/fPNxbz4rSZoQhjJpmJa6Kt547mzeddEiDj71U2766Tpe98m7+M//tIofPLWDAe9xJkkqEYcvpeNoa6im61vX8ciXPs5NP13PV36+ge88upXO5hp++SVzufScTlYsaqOQ9/81kqTxYSiTTmBOSx3XXnEWf3DZMr6/ejv/cv8mvvCz9Xzux8/SXFvgFUtm8PLFM3jpwjaWz26ipa6q3CVLkiYpQ5k0CjWFPFe8eA5XvHgOBw738+M1O/j+E9v5+brdfG/19iPrzWmpZX5bHbNb6pjTUsvs5lrmtNQyo6GaGQ3VtNZX01pfRZU9bJKkYxjKpJGM8lFOufpWqmcvpbpjEQdmLuLZ5g7yTe0UmmYSherjfmbwcDcDPfsZPLiPavr4lTdfRmt9NW311cxoqGJGQw0LZ9SzeGY9TbX2vknSdGAok0ZyCo9yOurjKXGof5ADh/rp6RvgUN9A8b13gEN9rfT0F9ueevRBVm3YzZ7uPvYffuE90mY2VrO4vYHFMxtYNquRMzubWNbZyLzWOp9CIElTiKFMKpGIoK4qT90Iz9Yc8qE/vpStabA4kyuQq2skX99KoW0OVW1z2d82l01tc7lnxjwKjTOOfG7w8EH6ujbQt3MDvTuL73071zOwv+sF3+HD1SWp8hnKpHIbQ4/cob4Bug700tV9mF3dvXTNbqfrwLn09A0cWae6kKO9oZr2hmraGqppqinw+WvfxcZdB5nVXENN4cQh8YSlpkTfQKKnt9jr19M3QE/vAIlEVT5HTSFHc20VzXVV5HP24knSWBjKpEmktirPvLY65rXVHdV+sLe/GNIO9NLVXQxta7cf4FB/sQdu9m98ktf89V1A8V5sDdV56qrz1FcXqKvOU1uVJ6XEwGCifzB7HxjkUN/gUeGrp29g1Pdq62gqnhe3oK2u+D6jnhd1NLCss4lmz5OTpBcwlElTQH11gfrqAvPb6o+0DZ3T1n24n+s+/B7yjTMoNM5gX0MbueoaoqqWqKolV1VbvCAhJdLgAAwOkFL23tfLYP9hUt8hUt9hUt9hBvsOkfoPPz/ffxgSzJw1m+s+fT37evrY09PHtr2H2LDrICvX7+a2h55jeJab21LLss4mls9u4szOJpZ3NrF0ViN11afeiydJk11FhbKIeBPwaSAPfC6l9IkylyRNWsPPaTv07KrTumhhND70xrP51RVfP/7CXJ5C8yyqZsyjKrtKdV3HIu5uX3DkCtWUBunfvZW+nevp69pE//4dDOzbSf/+nQzs38lgzz7g1M+P6x8Y5GB2ocWxvX+H+gbo6R08MgxclQ8KuRz5XFCVDxprCrQ1FK+O9ZYmkkqlYkJZROSBvwMuAzYBP4+I21JKj5e3MkmjcgpXqw4OJvb29LGz+3A29NpM14FF7O3p49hR0lxAVT5Hd9dWLrvuBzTUFI5cRJEorpxS8dXTN8DB3n56egfo7i2Gr96BwXH5MQGaagt0NNbQ2VzL7Jba4ntzzfPTLbV0NNb4xAdJY1IxoQx4BbA2pfQMQER8BbgSMJRJU1QuF8UeqIZqls16vn0wFS8m2H+onwOHi6/uw/30DQzykwfu4MGta8hV1xGFmuwTWRoDSOn5IdfeQ8Xh1mz4dTBrGxp+La7X+/xwbP9hAPJVNcVQmMsT+QK56jpydc3k6prI1zWzr66ZrQ2tPN40k0JTO/nGGUT+6PPk0uAAA917GOjeTTrczeDhg9mrm9R3iKamRv7g936PXAT5XLFnM6XEYCr+/IOJbD6REkfND62Tjqz7/PoAhVyOQj6oyuco5IrvVfmgkM1XF3LD1hla7/l1qo757NDvZPj3Hl1rgqzGoflEts4gR+bzEeRzQS4XR6aLL8hFsXcyl4N8LijkIts3xfdCvviZ3NCyY7eRLZsoQ/v6yGGX7aOBwed/LwMpkQZhYOh3NFjcZwNHprP5wXRkfw4caT962cDg0ft7MEFQ3G+5bP8VX8VjKRfD2rLlERypbeg/MInhx1rxJxlMx66Xjvx82a/6yO88giO9yoV8HPndFd9zR8/nn/9dFXI58vnh68Zxb/GThh3nw2tg2PRASgwMJPoGB7PzYY85P3ZwkP6Bo+ePLM/a+wcHOWt2M0tnNZb82DmRSgpl84CNw+Y3Aa8sUy2SyigXQUNNgYaaF/6Juu2Dnyr9UOzly8f0HSklevoGng+Qh4am2zjYu4De/kF6BwY53D9Ib/8gfQODDAwM8Ok715xku4PZv5zF9+fni21p2LIjyyOILEwWQ2UVkZs+5+oND2xwdC9qcZ6jJkZafiR0HZkvXc0qGgqSz4f6if3+wQe+zoZ//9zEfukxIlXIkRYRbwPelFL6j9n8u4BXppR+55j1rgGuyWaXA6X96wwzgZ0l/o7pyn1bGu7X0nC/lo77tjTcr6VxOvt1UUqpY6SFldRTthlYMGx+ftZ2lJTSDcANE1VURKxMKa2YqO+bTty3peF+LQ33a+m4b0vD/VoapdyvlXQW6s+BZRGxJCKqgXcCt5W5JkmSpAlRMT1lKaX+iPgd4N8p3hLj8ymlx8pcliRJ0oSomFAGkFL6NvDtctdxjAkbKp2G3Lel4X4tDfdr6bhvS8P9Whol268Vc6K/JEnSdFZJ55RJkiRNW4ayE4iIN0XEkxGxNiKuLXc9lS4iFkTEXRHxeEQ8FhG/l7XPiIg7ImJN9t6WtUdEXJ/t34cj4sJh27o6W39NRFxdrp+pkkREPiIeiIhvZvNLIuLebP99NbtAhoioyebXZssXD9vGn2TtT0bEG8v0o1SUiGiNiFsi4omIWB0Rr/KYPX0R8QfZ34FHI+LLEVHrMTt2EfH5iNgeEY8Oaxu34zMiXhYRj2SfuT6OdwfXKWqEffvJ7G/BwxHx9YhoHbbsuMfiSFlhpOP9hIp3y/V17IvixQZPAy8CqoGHgHPKXVclv4A5wIXZdBPwFHAO8NfAtVn7tcBfZdNvBr5D8cbUFwH3Zu0zgGey97Zsuq3cP1+5X8CHgH8GvpnN3wy8M5v+e+A/Z9PvB/4+m34n8NVs+pzsOK4BlmTHd77cP1e5X8BNwH/MpquBVo/Z096n84Bngbps/mbgNz1mT2lfvha4EHh0WNu4HZ/Afdm6kX32inL/zGXet5cDhWz6r4bt2+Mei5wgK4x0vJ/oZU/ZyI489iml1AsMPfZJI0gpbUkp3Z9N7wdWU/zjfCXFf/jI3q/Kpq8EvpCK7gFaI2IO8EbgjpTSrpTSbuAO4E0T95NUnoiYD/wS8LlsPoCLgVuyVY7dr0P7+xbgkmz9K4GvpJQOp5SeBdZSPM6nrYhoofiH+UaAlFJvSmkPHrPjoQDURUQBqAe24DE7ZimlHwK7jmkel+MzW9acUronFZPDF4Zta8o73r5NKd2eUurPZu+heM9UGPlYPG5WOMnf6BEZykZ2vMc+zStTLZNONvzwUuBeoDOltCVbtBXozKZH2sfu+xf638AfAUNP1W4H9gz74zF8Hx3Zf9nyvdn67tcXWgLsAP4hGxr+XEQ04DF7WlJKm4G/ATZQDGN7gVV4zI6X8To+52XTx7ar6Lco9h7C2Pftif5Gj8hQpnEXEY3AvwC/n1LaN3xZ9r8xL/kdg4h4C7A9pbSq3LVMQQWKwxefSSm9FOimOBx0hMfs2GXnOF1JMfTOBRqw57AkPD5LIyI+AvQDX5rI7zWUjWxUj33S0SKiimIg+1JK6V+z5m1ZNznZ+/asfaR97L4/2quBt0bEOopd4xcDn6Y4NDF0r8Hh++jI/suWtwBduF+PZxOwKaV0bzZ/C8WQ5jF7ei4Fnk0p7Ugp9QH/SvE49pgdH+N1fG7m+eG54e3TWkT8JvAW4Nez0Atj37ddjHy8j8hQNjIf+zRG2Rj6jcDqlNJ1wxbdBgxd7XM1cOuw9ndnVwxdBOzNuuT/Hbg8Itqy/3FfnrVNSymlP0kpzU8pLaZ4HH4/pfTrwF3A27LVjt2vQ/v7bdn6KWt/Z3al2xJgGcWTfKetlNJWYGNELM+aLgEex2P2dG0ALoqI+uzvwtB+9ZgdH+NyfGbL9kXERdnv6d3DtjUtRcSbKJ4q8taU0sFhi0Y6Fo+bFbLjd6TjfWTluOJhsrwoXsnyFMUrKz5S7noq/QX8IsVu9IeBB7PXmymOrd8JrAG+B8zI1g/g77L9+wiwYti2foviiZRrgfeU+2erlBfwep6/+vJF2R+FtcDXgJqsvTabX5stf9Gwz38k299PMo2usjrJPr0AWJkdt/9G8eo0j9nT369/DjwBPAp8keJVax6zY9+PX6Z4Xl4fxZ7d947n8QmsyH5HTwN/S3ZT+enwGmHfrqV4jtjQv2F/f7JjkRGywkjH+4le3tFfkiSpAjh8KUmSVAEMZZIkSRXAUCZJklQBDGWSJEkVwFAmSZJUAQxlkqasiBiIiAcj4tGI+EZEtI7z9tdFxMyIaI2I94/ntiVNP4YySVNZT0rpgpTSeRQfPPyBEn1PK2Aok3RaDGWSpoufkT0QOCLOiIjvRsSqiPhRRJyVtf9q1qv2UET8MGv7zYj426GNRMQ3I+L1x2z7E8AZWa/cJyfkp5E05RROvookTW4Rkaf4qJ8bs6YbgPellNZExCuB/0vxmaIfA96YUto8xqHOa4HzUkoXjF/VkqYbQ5mkqawuIh6k2EO2GrgjIhqBXwC+VnzcH1B8BBDAT4B/jIibKT5EW5ImjMOXkqaynqz3ahHF5wJ+gOLfvT3ZuWZDr7MBUkrvAz4KLABWRUQ70M/RfytrJ/IHkDR9GMokTXkppYPA7wIfBg4Cz0bErwJE0fnZ9BkppXtTSh8DdlAMZ+uACyIiFxELgFcc5yv2A02l/0kkTWWGMknTQkrpAeBh4NeAXwfeGxEPAY8BV2arfTIiHomIR4GfAg9RHNJ8FngcuB64/zjb7gJ+kl0k4In+kk5JpJTKXYMkSdK0Z0+ZJElSBTCUSZIkVQBDmSRJUgUwlEmSJFUAQ5kkSVIFMJRJkiRVAEOZJElSBTCUSZIkVYD/H1bIN2xpCfO8AAAAAElFTkSuQmCC\n",
       "datasetInfos": [],
       "metadata": {},
       "removedWidgets": [],
       "type": "image"
      }
     },
     "output_type": "display_data"
    }
   ],
   "source": [
    "\n",
    "# EDA: Plot the distribution of results (e.g., scores or ratings)\n",
    "result_distribution = type_casted_steam_game_dataframe.groupBy(\"Result\") \\\n",
    "    .agg(count(\"*\").alias(\"frequency\"))\n",
    "\n",
    "# Convert to Pandas for visualization\n",
    "result_dist_pd = result_distribution.toPandas()\n",
    "\n",
    "plt.figure(figsize=(10, 6))\n",
    "sns.histplot(data=result_dist_pd, x=\"Result\", bins=20, kde=True)\n",
    "plt.title(\"Distribution of Results\")\n",
    "plt.xlabel(\"Result\")\n",
    "plt.ylabel(\"Frequency\")\n",
    "plt.show()\n"
   ]
  },
  {
   "cell_type": "code",
   "execution_count": 0,
   "metadata": {
    "application/vnd.databricks.v1+cell": {
     "cellMetadata": {
      "byteLimit": 2048000,
      "rowLimit": 10000
     },
     "inputWidgets": {},
     "nuid": "32ee74c2-e48f-48af-9e9d-372bbcf3f5df",
     "showTitle": false,
     "title": ""
    }
   },
   "outputs": [
    {
     "output_type": "stream",
     "name": "stdout",
     "output_type": "stream",
     "text": [
      "Total unique users: 12393\nAverage result: 17.87\n"
     ]
    }
   ],
   "source": [
    "\n",
    "# EDA: Investigate user interaction with games\n",
    "# Get the count of unique users and their average behavior\n",
    "unique_users = type_casted_steam_game_dataframe.agg(countDistinct(\"Unique_Identifier\").alias(\"unique_users\")).collect()[0][\"unique_users\"]\n",
    "average_result = type_casted_steam_game_dataframe.agg(round(avg(\"Result\"), 2).alias(\"average_result\")).collect()[0][\"average_result\"]\n",
    "\n",
    "print(f\"Total unique users: {unique_users}\")\n",
    "print(f\"Average result: {average_result}\")\n"
   ]
  },
  {
   "cell_type": "code",
   "execution_count": 0,
   "metadata": {
    "application/vnd.databricks.v1+cell": {
     "cellMetadata": {
      "byteLimit": 2048000,
      "rowLimit": 10000
     },
     "inputWidgets": {},
     "nuid": "28898547-da3a-4596-b906-37433895c4fd",
     "showTitle": false,
     "title": ""
    }
   },
   "outputs": [],
   "source": [
    "from pyspark.ml.recommendation import ALS\n",
    "\n",
    "# Configure ALS with the correct parameters\n",
    "als = ALS(\n",
    "    maxIter=5, \n",
    "    regParam=0.01, \n",
    "    userCol=\"Unique_Identifier\", \n",
    "    itemCol=\"Game_ID\", \n",
    "    ratingCol=\"Result\", \n",
    "    coldStartStrategy=\"drop\"\n",
    ")\n",
    "\n",
    "# Assuming 'training' is a DataFrame containing the training data\n",
    "model = als.fit(training)\n"
   ]
  },
  {
   "cell_type": "code",
   "execution_count": 0,
   "metadata": {
    "application/vnd.databricks.v1+cell": {
     "cellMetadata": {
      "byteLimit": 2048000,
      "rowLimit": 10000
     },
     "inputWidgets": {},
     "nuid": "3159d291-c36e-475c-aa30-d1a910f354bd",
     "showTitle": false,
     "title": ""
    }
   },
   "outputs": [
    {
     "output_type": "stream",
     "name": "stdout",
     "output_type": "stream",
     "text": [
      "Root Mean Square Error (RMSE): 229.1233231711882\n"
     ]
    }
   ],
   "source": [
    "from pyspark.ml.evaluation import RegressionEvaluator\n",
    "\n",
    "# Assuming 'model' is a trained ALS model and 'test' is the test dataset\n",
    "predictions = model.transform(test)\n",
    "\n",
    "# Create an evaluator for measuring RMSE\n",
    "evaluator = RegressionEvaluator(\n",
    "    metricName=\"rmse\",\n",
    "    labelCol=\"Result\",\n",
    "    predictionCol=\"prediction\"  # Note: \"prediction\" is the default name of the predictions column\n",
    ")\n",
    "\n",
    "# Evaluate the predictions using RMSE\n",
    "rmse = evaluator.evaluate(predictions)\n",
    "\n",
    "print(\"Root Mean Square Error (RMSE):\", rmse)\n"
   ]
  },
  {
   "cell_type": "code",
   "execution_count": 0,
   "metadata": {
    "application/vnd.databricks.v1+cell": {
     "cellMetadata": {
      "byteLimit": 2048000,
      "rowLimit": 10000
     },
     "inputWidgets": {},
     "nuid": "56611686-16e4-42ca-ae6d-226797853138",
     "showTitle": false,
     "title": ""
    }
   },
   "outputs": [],
   "source": [
    "from pyspark.ml.tuning import ParamGridBuilder, CrossValidator\n",
    "from pyspark.ml.recommendation import ALS\n",
    "from pyspark.ml.evaluation import RegressionEvaluator\n",
    "\n",
    "# Define parameters for tuning\n",
    "parameters_for_tuning = {\n",
    "    'rank': [5, 10, 15],\n",
    "    'maxIter': [5, 10, 15],\n",
    "    'regParam': [0.01, 0.05, 0.1]\n",
    "}\n",
    "\n",
    "# Define a function to train and evaluate the model with parameter tuning\n",
    "def to_train_and_evaluate_model(training, test, parameters_for_tuning):\n",
    "    # Create an ALS instance\n",
    "    als = ALS(\n",
    "        userCol=\"Unique_Identifier\",\n",
    "        itemCol=\"Game_ID\",\n",
    "        ratingCol=\"Result\",\n",
    "        coldStartStrategy=\"drop\"\n",
    "    )\n",
    "\n",
    "    # Create a grid of parameters for tuning\n",
    "    grid_parameters = ParamGridBuilder()\\\n",
    "        .addGrid(als.rank, parameters_for_tuning['rank'])\\\n",
    "        .addGrid(als.maxIter, parameters_for_tuning['maxIter'])\\\n",
    "        .addGrid(als.regParam, parameters_for_tuning['regParam'])\\\n",
    "        .build()\n",
    "\n",
    "    # Set up an evaluator for RMSE\n",
    "    evaluator = RegressionEvaluator(\n",
    "        metricName=\"rmse\",\n",
    "        labelCol=\"Result\",\n",
    "        predictionCol=\"prediction\"\n",
    "    )\n",
    "\n",
    "    # Set up cross-validation with ALS as the estimator\n",
    "    crossval = CrossValidator(\n",
    "        estimator=als,\n",
    "        estimatorParamMaps=grid_parameters,\n",
    "        evaluator=evaluator,\n",
    "        numFolds=5\n",
    "    )\n",
    "\n",
    "    # Fit the cross-validation model on the training data\n",
    "    cv_model = crossval.fit(training)\n",
    "\n",
    "    # Generate predictions on the test data\n",
    "    predictions = cv_model.transform(test)\n",
    "\n",
    "    # Calculate RMSE to evaluate model performance\n",
    "    rmse = evaluator.evaluate(predictions)\n",
    "\n",
    "    return cv_model, rmse\n"
   ]
  },
  {
   "cell_type": "code",
   "execution_count": 0,
   "metadata": {
    "application/vnd.databricks.v1+cell": {
     "cellMetadata": {
      "byteLimit": 2048000,
      "rowLimit": 10000
     },
     "inputWidgets": {},
     "nuid": "bec63924-c980-473c-aefc-c42458ded747",
     "showTitle": false,
     "title": ""
    }
   },
   "outputs": [
    {
     "output_type": "display_data",
     "data": {
      "image/png": "[encoded data removed]"
     },
     "metadata": {
      "application/vnd.databricks.v1+output": {
       "addedWidgets": {},
       "arguments": {},
       "data": "data:image/png;base64,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\n",
       "datasetInfos": [],
       "metadata": {},
       "removedWidgets": [],
       "type": "image"
      }
     },
     "output_type": "display_data"
    }
   ],
   "source": [
    "import matplotlib.pyplot as plt\n",
    "import seaborn as sns\n",
    "import pandas as pd\n",
    "predictions_pd = predictions.select(\"Unique_Identifier\", \"Game_ID\", \"Result\", \"prediction\").toPandas()\n",
    "# Scatter plot of actual vs. predicted ratings\n",
    "plt.figure(figsize=(8, 6))\n",
    "plt.scatter(predictions_pd['Result'], predictions_pd['prediction'], alpha=0.6, label='Predictions')\n",
    "plt.xlabel('Actual Ratings')\n",
    "plt.ylabel('Predicted Ratings')\n",
    "plt.title('Actual vs. Predicted Ratings')\n",
    "plt.plot([1, 5], [1, 5], '--', color='red', label='Perfect Prediction')  # Add a reference line\n",
    "plt.legend()\n",
    "plt.show()"
   ]
  },
  {
   "cell_type": "code",
   "execution_count": 0,
   "metadata": {
    "application/vnd.databricks.v1+cell": {
     "cellMetadata": {
      "byteLimit": 2048000,
      "rowLimit": 10000
     },
     "inputWidgets": {},
     "nuid": "c48236a3-7e1e-4b7c-beda-da722363d2ae",
     "showTitle": false,
     "title": ""
    }
   },
   "outputs": [
    {
     "output_type": "stream",
     "name": "stdout",
     "output_type": "stream",
     "text": [
      "Root Mean Square Error (RMSE): 229.1233231711882\n"
     ]
    }
   ],
   "source": [
    "print(\"Root Mean Square Error (RMSE):\", rmse)\n"
   ]
  },
  {
   "cell_type": "code",
   "execution_count": 0,
   "metadata": {
    "application/vnd.databricks.v1+cell": {
     "cellMetadata": {
      "byteLimit": 2048000,
      "rowLimit": 10000
     },
     "inputWidgets": {},
     "nuid": "4f28d65a-30cd-4bd5-9cf3-21f0d8058d97",
     "showTitle": false,
     "title": ""
    }
   },
   "outputs": [
    {
     "output_type": "stream",
     "name": "stdout",
     "output_type": "stream",
     "text": [
      "+-----------------+-------+------+-----------+\n|Unique_Identifier|Game_ID|Result| prediction|\n+-----------------+-------+------+-----------+\n|             5250|     10|   1.0| 0.76319885|\n|             5250|     92|  13.6| 0.21047044|\n|             5250|    206|   1.0|-0.63129246|\n|             5250|    389|   1.0| 0.16952288|\n|             5250|    552|   1.0|-0.17811042|\n+-----------------+-------+------+-----------+\nonly showing top 5 rows\n\n"
     ]
    }
   ],
   "source": [
    "predictions.show(5)  # Displays the first 5 rows\n"
   ]
  },
  {
   "cell_type": "code",
   "execution_count": 0,
   "metadata": {
    "application/vnd.databricks.v1+cell": {
     "cellMetadata": {
      "byteLimit": 2048000,
      "rowLimit": 10000
     },
     "inputWidgets": {},
     "nuid": "5902dc2e-8ee8-4e7a-9226-84bbad370431",
     "showTitle": false,
     "title": ""
    }
   },
   "outputs": [
    {
     "output_type": "stream",
     "name": "stdout",
     "output_type": "stream",
     "text": [
      "+-----------------+-------+------+-----------+\n|Unique_Identifier|Game_ID|Result| prediction|\n+-----------------+-------+------+-----------+\n|         16167221|    107|  13.0|  1.3226364|\n|         16167221|    395|   1.0|  1.7747333|\n|         16167221|    396|   1.0|  1.7059444|\n|         16167221|    568|   1.0|-0.10852814|\n|         16167221|    611|   1.0|   9.679347|\n|         16167221|    611| 722.0|   9.679347|\n|         16167221|    613|   1.0| 0.61462915|\n|         16167221|    613|   2.8| 0.61462915|\n|         16167221|   1020|   1.0|  16.478968|\n|         16167221|   1292|   1.0|0.020038605|\n+-----------------+-------+------+-----------+\nonly showing top 10 rows\n\n"
     ]
    }
   ],
   "source": [
    "predictions.select(\"Unique_Identifier\", \"Game_ID\", \"Result\", \"prediction\").show(10)  # Display a few rows for comparison\n"
   ]
  }
 ],
 "metadata": {
  "application/vnd.databricks.v1+notebook": {
   "dashboards": [],
   "language": "python",
   "notebookMetadata": {
    "pythonIndentUnit": 4
   },
   "notebookName": "Sunena_Salam_ml",
   "widgets": {}
  }
 },
 "nbformat": 4,
 "nbformat_minor": 0
}
